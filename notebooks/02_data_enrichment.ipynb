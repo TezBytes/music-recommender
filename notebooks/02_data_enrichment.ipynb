{
 "cells": [
  {
   "cell_type": "code",
   "execution_count": 1,
   "metadata": {
    "colab": {
     "base_uri": "https://localhost:8080/"
    },
    "executionInfo": {
     "elapsed": 926,
     "status": "ok",
     "timestamp": 1748786867509,
     "user": {
      "displayName": "Anish Srivastava",
      "userId": "11197923939970859022"
     },
     "user_tz": -330
    },
    "id": "ixpaxcE20KUq",
    "outputId": "2d23635e-c192-42e3-d368-631dd479116f"
   },
   "outputs": [
    {
     "name": "stdout",
     "output_type": "stream",
     "text": [
      "Cloning into 'music-recommender'...\n",
      "remote: Enumerating objects: 18, done.\u001b[K\n",
      "remote: Counting objects: 100% (18/18), done.\u001b[K\n",
      "remote: Compressing objects: 100% (13/13), done.\u001b[K\n",
      "remote: Total 18 (delta 1), reused 11 (delta 0), pack-reused 0 (from 0)\u001b[K\n",
      "Receiving objects: 100% (18/18), 8.02 KiB | 8.02 MiB/s, done.\n",
      "Resolving deltas: 100% (1/1), done.\n"
     ]
    }
   ],
   "source": [
    "!git clone https://github.com/tezbytes/music-recommender"
   ]
  },
  {
   "cell_type": "code",
   "execution_count": 8,
   "metadata": {
    "colab": {
     "base_uri": "https://localhost:8080/"
    },
    "executionInfo": {
     "elapsed": 23,
     "status": "ok",
     "timestamp": 1748786946785,
     "user": {
      "displayName": "Anish Srivastava",
      "userId": "11197923939970859022"
     },
     "user_tz": -330
    },
    "id": "5NmWmjty0eht",
    "outputId": "9c48cede-8322-4c54-a5c5-6cd156b995e5"
   },
   "outputs": [
    {
     "name": "stdout",
     "output_type": "stream",
     "text": [
      "/content/music-recommender\n"
     ]
    }
   ],
   "source": [
    "%cd music-recommender\n"
   ]
  },
  {
   "cell_type": "code",
   "execution_count": 9,
   "metadata": {
    "colab": {
     "base_uri": "https://localhost:8080/"
    },
    "executionInfo": {
     "elapsed": 108,
     "status": "ok",
     "timestamp": 1748786948986,
     "user": {
      "displayName": "Anish Srivastava",
      "userId": "11197923939970859022"
     },
     "user_tz": -330
    },
    "id": "azEUGGcX0hqW",
    "outputId": "bdb6c3a5-41ac-4690-b247-c1cf79a88e24"
   },
   "outputs": [
    {
     "name": "stdout",
     "output_type": "stream",
     "text": [
      "notebooks  README.md  scripts\n"
     ]
    }
   ],
   "source": [
    "!ls\n"
   ]
  },
  {
   "cell_type": "markdown",
   "metadata": {
    "id": "aNd3lYWv1Kzt"
   },
   "source": [
    "# Import music-recommender-data"
   ]
  },
  {
   "cell_type": "code",
   "execution_count": 26,
   "metadata": {
    "executionInfo": {
     "elapsed": 1482,
     "status": "ok",
     "timestamp": 1748787874239,
     "user": {
      "displayName": "Anish Srivastava",
      "userId": "11197923939970859022"
     },
     "user_tz": -330
    },
    "id": "xl8aF8Ls0kJZ"
   },
   "outputs": [],
   "source": [
    "import pandas as pd\n",
    "\n",
    "df = pd.read_csv(\"hf://datasets/tezbytes/music-recommender-data/enriched_data.csv\")"
   ]
  },
  {
   "cell_type": "code",
   "execution_count": 27,
   "metadata": {
    "colab": {
     "base_uri": "https://localhost:8080/"
    },
    "executionInfo": {
     "elapsed": 13,
     "status": "ok",
     "timestamp": 1748787875084,
     "user": {
      "displayName": "Anish Srivastava",
      "userId": "11197923939970859022"
     },
     "user_tz": -330
    },
    "id": "j6pUcXdj1rXX",
    "outputId": "b3ef1a60-a314-41b6-927b-62b0d9c37a2d"
   },
   "outputs": [
    {
     "name": "stdout",
     "output_type": "stream",
     "text": [
      "(89740, 22)\n"
     ]
    }
   ],
   "source": [
    "print(df.shape)"
   ]
  },
  {
   "cell_type": "markdown",
   "metadata": {
    "id": "GINo4vET1wGM"
   },
   "source": [
    "# Analyze track_genre column"
   ]
  },
  {
   "cell_type": "code",
   "execution_count": 28,
   "metadata": {
    "colab": {
     "base_uri": "https://localhost:8080/",
     "height": 742
    },
    "executionInfo": {
     "elapsed": 25,
     "status": "ok",
     "timestamp": 1748787877963,
     "user": {
      "displayName": "Anish Srivastava",
      "userId": "11197923939970859022"
     },
     "user_tz": -330
    },
    "id": "loWUXkWE1TTD",
    "outputId": "a96cc98e-6e78-494e-ee16-46591a2b8ef0"
   },
   "outputs": [
    {
     "data": {
      "text/html": [
       "<div>\n",
       "<style scoped>\n",
       "    .dataframe tbody tr th:only-of-type {\n",
       "        vertical-align: middle;\n",
       "    }\n",
       "\n",
       "    .dataframe tbody tr th {\n",
       "        vertical-align: top;\n",
       "    }\n",
       "\n",
       "    .dataframe thead th {\n",
       "        text-align: right;\n",
       "    }\n",
       "</style>\n",
       "<table border=\"1\" class=\"dataframe\">\n",
       "  <thead>\n",
       "    <tr style=\"text-align: right;\">\n",
       "      <th></th>\n",
       "      <th>count</th>\n",
       "    </tr>\n",
       "    <tr>\n",
       "      <th>track_genre</th>\n",
       "      <th></th>\n",
       "    </tr>\n",
       "  </thead>\n",
       "  <tbody>\n",
       "    <tr>\n",
       "      <th>acoustic</th>\n",
       "      <td>1000</td>\n",
       "    </tr>\n",
       "    <tr>\n",
       "      <th>alt-rock</th>\n",
       "      <td>999</td>\n",
       "    </tr>\n",
       "    <tr>\n",
       "      <th>tango</th>\n",
       "      <td>999</td>\n",
       "    </tr>\n",
       "    <tr>\n",
       "      <th>ambient</th>\n",
       "      <td>999</td>\n",
       "    </tr>\n",
       "    <tr>\n",
       "      <th>afrobeat</th>\n",
       "      <td>999</td>\n",
       "    </tr>\n",
       "    <tr>\n",
       "      <th>cantopop</th>\n",
       "      <td>999</td>\n",
       "    </tr>\n",
       "    <tr>\n",
       "      <th>bluegrass</th>\n",
       "      <td>998</td>\n",
       "    </tr>\n",
       "    <tr>\n",
       "      <th>forro</th>\n",
       "      <td>998</td>\n",
       "    </tr>\n",
       "    <tr>\n",
       "      <th>study</th>\n",
       "      <td>998</td>\n",
       "    </tr>\n",
       "    <tr>\n",
       "      <th>chicago-house</th>\n",
       "      <td>998</td>\n",
       "    </tr>\n",
       "    <tr>\n",
       "      <th>disney</th>\n",
       "      <td>998</td>\n",
       "    </tr>\n",
       "    <tr>\n",
       "      <th>sleep</th>\n",
       "      <td>997</td>\n",
       "    </tr>\n",
       "    <tr>\n",
       "      <th>heavy-metal</th>\n",
       "      <td>997</td>\n",
       "    </tr>\n",
       "    <tr>\n",
       "      <th>breakbeat</th>\n",
       "      <td>997</td>\n",
       "    </tr>\n",
       "    <tr>\n",
       "      <th>black-metal</th>\n",
       "      <td>996</td>\n",
       "    </tr>\n",
       "    <tr>\n",
       "      <th>j-idol</th>\n",
       "      <td>995</td>\n",
       "    </tr>\n",
       "    <tr>\n",
       "      <th>happy</th>\n",
       "      <td>995</td>\n",
       "    </tr>\n",
       "    <tr>\n",
       "      <th>anime</th>\n",
       "      <td>995</td>\n",
       "    </tr>\n",
       "    <tr>\n",
       "      <th>club</th>\n",
       "      <td>994</td>\n",
       "    </tr>\n",
       "    <tr>\n",
       "      <th>comedy</th>\n",
       "      <td>990</td>\n",
       "    </tr>\n",
       "  </tbody>\n",
       "</table>\n",
       "</div><br><label><b>dtype:</b> int64</label>"
      ],
      "text/plain": [
       "track_genre\n",
       "acoustic         1000\n",
       "alt-rock          999\n",
       "tango             999\n",
       "ambient           999\n",
       "afrobeat          999\n",
       "cantopop          999\n",
       "bluegrass         998\n",
       "forro             998\n",
       "study             998\n",
       "chicago-house     998\n",
       "disney            998\n",
       "sleep             997\n",
       "heavy-metal       997\n",
       "breakbeat         997\n",
       "black-metal       996\n",
       "j-idol            995\n",
       "happy             995\n",
       "anime             995\n",
       "club              994\n",
       "comedy            990\n",
       "Name: count, dtype: int64"
      ]
     },
     "execution_count": 28,
     "metadata": {},
     "output_type": "execute_result"
    }
   ],
   "source": [
    "df['track_genre'].value_counts().head(20)"
   ]
  },
  {
   "cell_type": "markdown",
   "metadata": {
    "id": "JNpWAFxA2TU5"
   },
   "source": [
    "# Clean multi-genre entries"
   ]
  },
  {
   "cell_type": "code",
   "execution_count": 29,
   "metadata": {
    "executionInfo": {
     "elapsed": 2,
     "status": "ok",
     "timestamp": 1748787888767,
     "user": {
      "displayName": "Anish Srivastava",
      "userId": "11197923939970859022"
     },
     "user_tz": -330
    },
    "id": "PN726oKc2FEO"
   },
   "outputs": [],
   "source": [
    "def normalize_genre(genre):\n",
    "  if pd.isna(genre):\n",
    "    return \"unknown\"\n",
    "  return genre.strip().lower()"
   ]
  },
  {
   "cell_type": "markdown",
   "metadata": {
    "id": "92mZ91GS29NO"
   },
   "source": [
    "# Genre Mapping"
   ]
  },
  {
   "cell_type": "code",
   "execution_count": 30,
   "metadata": {
    "executionInfo": {
     "elapsed": 14,
     "status": "ok",
     "timestamp": 1748787892715,
     "user": {
      "displayName": "Anish Srivastava",
      "userId": "11197923939970859022"
     },
     "user_tz": -330
    },
    "id": "lR04SZeQ2iZH"
   },
   "outputs": [],
   "source": [
    "genre_map = {\n",
    "    \"accoustic\": \"pop\",\n",
    "    \"alt-rock\":  \"rock\",\n",
    "    \"tango\": \"world\",\n",
    "    \"ambient\": \"electronic\",\n",
    "    \"afrobeat\": \"world\",\n",
    "    \"cantopop\": \"pop\",\n",
    "    \"bluegrass\": \"folk\",\n",
    "    \"forro\": \"world\",\n",
    "    \"study\": \"ambient\",\n",
    "    \"chicago-house\": \"electronic\",\n",
    "    \"disney\": \"pop\",\n",
    "    \"sleep\": \"ambient\",\n",
    "    \"heavy-metal\": \"rock\",\n",
    "    \"breakbeat\": \"electronic\",\n",
    "    \"black-metal\": \"rock\",\n",
    "    \"j-idol\": \"pop\",\n",
    "    \"happy\": \"mood\",\n",
    "    \"anime\": \"pop\",\n",
    "    \"club\": \"electronic\",\n",
    "    \"comedy\": \"spoken\",\n",
    "}"
   ]
  },
  {
   "cell_type": "code",
   "execution_count": 31,
   "metadata": {
    "executionInfo": {
     "elapsed": 73,
     "status": "ok",
     "timestamp": 1748787910021,
     "user": {
      "displayName": "Anish Srivastava",
      "userId": "11197923939970859022"
     },
     "user_tz": -330
    },
    "id": "Yw4O9mPZ39ZZ"
   },
   "outputs": [],
   "source": [
    "df[\"normalized_genre\"] = df[\"track_genre\"].apply(normalize_genre)\n",
    "df[\"high_level_genre\"] = df[\"normalized_genre\"].apply(lambda g: genre_map.get(g, \"other\"))"
   ]
  },
  {
   "cell_type": "code",
   "execution_count": 34,
   "metadata": {
    "colab": {
     "base_uri": "https://localhost:8080/",
     "height": 272
    },
    "executionInfo": {
     "elapsed": 18,
     "status": "ok",
     "timestamp": 1748788027231,
     "user": {
      "displayName": "Anish Srivastava",
      "userId": "11197923939970859022"
     },
     "user_tz": -330
    },
    "id": "NhS6hXP93J6y",
    "outputId": "20cbee98-c334-49ce-f5d2-7d08b1af8805"
   },
   "outputs": [
    {
     "data": {
      "text/html": [
       "<div>\n",
       "<style scoped>\n",
       "    .dataframe tbody tr th:only-of-type {\n",
       "        vertical-align: middle;\n",
       "    }\n",
       "\n",
       "    .dataframe tbody tr th {\n",
       "        vertical-align: top;\n",
       "    }\n",
       "\n",
       "    .dataframe thead th {\n",
       "        text-align: right;\n",
       "    }\n",
       "</style>\n",
       "<table border=\"1\" class=\"dataframe\">\n",
       "  <thead>\n",
       "    <tr style=\"text-align: right;\">\n",
       "      <th></th>\n",
       "      <th>count</th>\n",
       "    </tr>\n",
       "    <tr>\n",
       "      <th>normalized_genre</th>\n",
       "      <th></th>\n",
       "    </tr>\n",
       "  </thead>\n",
       "  <tbody>\n",
       "    <tr>\n",
       "      <th>acoustic</th>\n",
       "      <td>1000</td>\n",
       "    </tr>\n",
       "    <tr>\n",
       "      <th>alt-rock</th>\n",
       "      <td>999</td>\n",
       "    </tr>\n",
       "    <tr>\n",
       "      <th>tango</th>\n",
       "      <td>999</td>\n",
       "    </tr>\n",
       "    <tr>\n",
       "      <th>ambient</th>\n",
       "      <td>999</td>\n",
       "    </tr>\n",
       "    <tr>\n",
       "      <th>afrobeat</th>\n",
       "      <td>999</td>\n",
       "    </tr>\n",
       "  </tbody>\n",
       "</table>\n",
       "</div><br><label><b>dtype:</b> int64</label>"
      ],
      "text/plain": [
       "normalized_genre\n",
       "acoustic    1000\n",
       "alt-rock     999\n",
       "tango        999\n",
       "ambient      999\n",
       "afrobeat     999\n",
       "Name: count, dtype: int64"
      ]
     },
     "execution_count": 34,
     "metadata": {},
     "output_type": "execute_result"
    }
   ],
   "source": [
    "df[\"normalized_genre\"].value_counts().head()"
   ]
  },
  {
   "cell_type": "code",
   "execution_count": 35,
   "metadata": {
    "colab": {
     "base_uri": "https://localhost:8080/",
     "height": 272
    },
    "executionInfo": {
     "elapsed": 62,
     "status": "ok",
     "timestamp": 1748788045608,
     "user": {
      "displayName": "Anish Srivastava",
      "userId": "11197923939970859022"
     },
     "user_tz": -330
    },
    "id": "99lWH_Pl3dhC",
    "outputId": "a41fdfdc-fd6d-4d80-fe0a-38ecaab84b40"
   },
   "outputs": [
    {
     "data": {
      "text/html": [
       "<div>\n",
       "<style scoped>\n",
       "    .dataframe tbody tr th:only-of-type {\n",
       "        vertical-align: middle;\n",
       "    }\n",
       "\n",
       "    .dataframe tbody tr th {\n",
       "        vertical-align: top;\n",
       "    }\n",
       "\n",
       "    .dataframe thead th {\n",
       "        text-align: right;\n",
       "    }\n",
       "</style>\n",
       "<table border=\"1\" class=\"dataframe\">\n",
       "  <thead>\n",
       "    <tr style=\"text-align: right;\">\n",
       "      <th></th>\n",
       "      <th>count</th>\n",
       "    </tr>\n",
       "    <tr>\n",
       "      <th>high_level_genre</th>\n",
       "      <th></th>\n",
       "    </tr>\n",
       "  </thead>\n",
       "  <tbody>\n",
       "    <tr>\n",
       "      <th>other</th>\n",
       "      <td>70799</td>\n",
       "    </tr>\n",
       "    <tr>\n",
       "      <th>electronic</th>\n",
       "      <td>3988</td>\n",
       "    </tr>\n",
       "    <tr>\n",
       "      <th>pop</th>\n",
       "      <td>3987</td>\n",
       "    </tr>\n",
       "    <tr>\n",
       "      <th>world</th>\n",
       "      <td>2996</td>\n",
       "    </tr>\n",
       "    <tr>\n",
       "      <th>rock</th>\n",
       "      <td>2992</td>\n",
       "    </tr>\n",
       "  </tbody>\n",
       "</table>\n",
       "</div><br><label><b>dtype:</b> int64</label>"
      ],
      "text/plain": [
       "high_level_genre\n",
       "other         70799\n",
       "electronic     3988\n",
       "pop            3987\n",
       "world          2996\n",
       "rock           2992\n",
       "Name: count, dtype: int64"
      ]
     },
     "execution_count": 35,
     "metadata": {},
     "output_type": "execute_result"
    }
   ],
   "source": [
    "df[\"high_level_genre\"].value_counts().head()"
   ]
  },
  {
   "cell_type": "code",
   "execution_count": 36,
   "metadata": {
    "executionInfo": {
     "elapsed": 2882,
     "status": "ok",
     "timestamp": 1748788246373,
     "user": {
      "displayName": "Anish Srivastava",
      "userId": "11197923939970859022"
     },
     "user_tz": -330
    },
    "id": "ZTqGx3oK4-W3"
   },
   "outputs": [],
   "source": [
    "df.to_csv(\"enriched_data.csv\", index=False)"
   ]
  },
  {
   "cell_type": "markdown",
   "metadata": {
    "id": "FcL0GVzQ61bX"
   },
   "source": [
    "# Push to HF"
   ]
  },
  {
   "cell_type": "code",
   "execution_count": 40,
   "metadata": {
    "colab": {
     "base_uri": "https://localhost:8080/"
    },
    "executionInfo": {
     "elapsed": 6262,
     "status": "ok",
     "timestamp": 1748788589177,
     "user": {
      "displayName": "Anish Srivastava",
      "userId": "11197923939970859022"
     },
     "user_tz": -330
    },
    "id": "zBmewonr7Ahl",
    "outputId": "2dbe94e8-c486-42ac-de32-36a790e78a29"
   },
   "outputs": [
    {
     "name": "stdout",
     "output_type": "stream",
     "text": [
      "Collecting datasets\n",
      "  Downloading datasets-3.6.0-py3-none-any.whl.metadata (19 kB)\n",
      "Requirement already satisfied: filelock in /usr/local/lib/python3.11/dist-packages (from datasets) (3.17.0)\n",
      "Requirement already satisfied: numpy>=1.17 in /usr/local/lib/python3.11/dist-packages (from datasets) (1.26.4)\n",
      "Requirement already satisfied: pyarrow>=15.0.0 in /usr/local/lib/python3.11/dist-packages (from datasets) (18.1.0)\n",
      "Collecting dill<0.3.9,>=0.3.0 (from datasets)\n",
      "  Downloading dill-0.3.8-py3-none-any.whl.metadata (10 kB)\n",
      "Requirement already satisfied: pandas in /usr/local/lib/python3.11/dist-packages (from datasets) (2.2.2)\n",
      "Requirement already satisfied: requests>=2.32.2 in /usr/local/lib/python3.11/dist-packages (from datasets) (2.32.3)\n",
      "Requirement already satisfied: tqdm>=4.66.3 in /usr/local/lib/python3.11/dist-packages (from datasets) (4.67.1)\n",
      "Collecting xxhash (from datasets)\n",
      "  Downloading xxhash-3.5.0-cp311-cp311-manylinux_2_17_x86_64.manylinux2014_x86_64.whl.metadata (12 kB)\n",
      "Collecting multiprocess<0.70.17 (from datasets)\n",
      "  Downloading multiprocess-0.70.16-py311-none-any.whl.metadata (7.2 kB)\n",
      "Requirement already satisfied: fsspec<=2025.3.0,>=2023.1.0 in /usr/local/lib/python3.11/dist-packages (from fsspec[http]<=2025.3.0,>=2023.1.0->datasets) (2024.10.0)\n",
      "Requirement already satisfied: huggingface-hub>=0.24.0 in /usr/local/lib/python3.11/dist-packages (from datasets) (0.28.1)\n",
      "Requirement already satisfied: packaging in /usr/local/lib/python3.11/dist-packages (from datasets) (24.2)\n",
      "Requirement already satisfied: pyyaml>=5.1 in /usr/local/lib/python3.11/dist-packages (from datasets) (6.0.2)\n",
      "Requirement already satisfied: aiohttp!=4.0.0a0,!=4.0.0a1 in /usr/local/lib/python3.11/dist-packages (from fsspec[http]<=2025.3.0,>=2023.1.0->datasets) (3.11.13)\n",
      "Requirement already satisfied: typing-extensions>=3.7.4.3 in /usr/local/lib/python3.11/dist-packages (from huggingface-hub>=0.24.0->datasets) (4.12.2)\n",
      "Requirement already satisfied: charset-normalizer<4,>=2 in /usr/local/lib/python3.11/dist-packages (from requests>=2.32.2->datasets) (3.4.1)\n",
      "Requirement already satisfied: idna<4,>=2.5 in /usr/local/lib/python3.11/dist-packages (from requests>=2.32.2->datasets) (3.10)\n",
      "Requirement already satisfied: urllib3<3,>=1.21.1 in /usr/local/lib/python3.11/dist-packages (from requests>=2.32.2->datasets) (2.3.0)\n",
      "Requirement already satisfied: certifi>=2017.4.17 in /usr/local/lib/python3.11/dist-packages (from requests>=2.32.2->datasets) (2025.1.31)\n",
      "Requirement already satisfied: python-dateutil>=2.8.2 in /usr/local/lib/python3.11/dist-packages (from pandas->datasets) (2.8.2)\n",
      "Requirement already satisfied: pytz>=2020.1 in /usr/local/lib/python3.11/dist-packages (from pandas->datasets) (2025.1)\n",
      "Requirement already satisfied: tzdata>=2022.7 in /usr/local/lib/python3.11/dist-packages (from pandas->datasets) (2025.1)\n",
      "Requirement already satisfied: aiohappyeyeballs>=2.3.0 in /usr/local/lib/python3.11/dist-packages (from aiohttp!=4.0.0a0,!=4.0.0a1->fsspec[http]<=2025.3.0,>=2023.1.0->datasets) (2.4.6)\n",
      "Requirement already satisfied: aiosignal>=1.1.2 in /usr/local/lib/python3.11/dist-packages (from aiohttp!=4.0.0a0,!=4.0.0a1->fsspec[http]<=2025.3.0,>=2023.1.0->datasets) (1.3.2)\n",
      "Requirement already satisfied: attrs>=17.3.0 in /usr/local/lib/python3.11/dist-packages (from aiohttp!=4.0.0a0,!=4.0.0a1->fsspec[http]<=2025.3.0,>=2023.1.0->datasets) (25.1.0)\n",
      "Requirement already satisfied: frozenlist>=1.1.1 in /usr/local/lib/python3.11/dist-packages (from aiohttp!=4.0.0a0,!=4.0.0a1->fsspec[http]<=2025.3.0,>=2023.1.0->datasets) (1.5.0)\n",
      "Requirement already satisfied: multidict<7.0,>=4.5 in /usr/local/lib/python3.11/dist-packages (from aiohttp!=4.0.0a0,!=4.0.0a1->fsspec[http]<=2025.3.0,>=2023.1.0->datasets) (6.1.0)\n",
      "Requirement already satisfied: propcache>=0.2.0 in /usr/local/lib/python3.11/dist-packages (from aiohttp!=4.0.0a0,!=4.0.0a1->fsspec[http]<=2025.3.0,>=2023.1.0->datasets) (0.3.0)\n",
      "Requirement already satisfied: yarl<2.0,>=1.17.0 in /usr/local/lib/python3.11/dist-packages (from aiohttp!=4.0.0a0,!=4.0.0a1->fsspec[http]<=2025.3.0,>=2023.1.0->datasets) (1.18.3)\n",
      "Requirement already satisfied: six>=1.5 in /usr/local/lib/python3.11/dist-packages (from python-dateutil>=2.8.2->pandas->datasets) (1.17.0)\n",
      "Downloading datasets-3.6.0-py3-none-any.whl (491 kB)\n",
      "\u001b[2K   \u001b[90m━━━━━━━━━━━━━━━━━━━━━━━━━━━━━━━━━━━━━━━━\u001b[0m \u001b[32m491.5/491.5 kB\u001b[0m \u001b[31m14.9 MB/s\u001b[0m eta \u001b[36m0:00:00\u001b[0m\n",
      "\u001b[?25hDownloading dill-0.3.8-py3-none-any.whl (116 kB)\n",
      "\u001b[2K   \u001b[90m━━━━━━━━━━━━━━━━━━━━━━━━━━━━━━━━━━━━━━━━\u001b[0m \u001b[32m116.3/116.3 kB\u001b[0m \u001b[31m8.4 MB/s\u001b[0m eta \u001b[36m0:00:00\u001b[0m\n",
      "\u001b[?25hDownloading multiprocess-0.70.16-py311-none-any.whl (143 kB)\n",
      "\u001b[2K   \u001b[90m━━━━━━━━━━━━━━━━━━━━━━━━━━━━━━━━━━━━━━━━\u001b[0m \u001b[32m143.5/143.5 kB\u001b[0m \u001b[31m11.6 MB/s\u001b[0m eta \u001b[36m0:00:00\u001b[0m\n",
      "\u001b[?25hDownloading xxhash-3.5.0-cp311-cp311-manylinux_2_17_x86_64.manylinux2014_x86_64.whl (194 kB)\n",
      "\u001b[2K   \u001b[90m━━━━━━━━━━━━━━━━━━━━━━━━━━━━━━━━━━━━━━━━\u001b[0m \u001b[32m194.8/194.8 kB\u001b[0m \u001b[31m14.5 MB/s\u001b[0m eta \u001b[36m0:00:00\u001b[0m\n",
      "\u001b[?25hInstalling collected packages: xxhash, dill, multiprocess, datasets\n",
      "Successfully installed datasets-3.6.0 dill-0.3.8 multiprocess-0.70.16 xxhash-3.5.0\n"
     ]
    }
   ],
   "source": [
    "!pip install datasets"
   ]
  },
  {
   "cell_type": "code",
   "execution_count": 42,
   "metadata": {
    "colab": {
     "base_uri": "https://localhost:8080/"
    },
    "executionInfo": {
     "elapsed": 75012,
     "status": "ok",
     "timestamp": 1748788778483,
     "user": {
      "displayName": "Anish Srivastava",
      "userId": "11197923939970859022"
     },
     "user_tz": -330
    },
    "id": "1DVuqXLK7eoJ",
    "outputId": "cd1f630c-36c9-4755-ffcf-a21e5ac1d3ba"
   },
   "outputs": [
    {
     "name": "stdout",
     "output_type": "stream",
     "text": [
      "\n",
      "    _|    _|  _|    _|    _|_|_|    _|_|_|  _|_|_|  _|      _|    _|_|_|      _|_|_|_|    _|_|      _|_|_|  _|_|_|_|\n",
      "    _|    _|  _|    _|  _|        _|          _|    _|_|    _|  _|            _|        _|    _|  _|        _|\n",
      "    _|_|_|_|  _|    _|  _|  _|_|  _|  _|_|    _|    _|  _|  _|  _|  _|_|      _|_|_|    _|_|_|_|  _|        _|_|_|\n",
      "    _|    _|  _|    _|  _|    _|  _|    _|    _|    _|    _|_|  _|    _|      _|        _|    _|  _|        _|\n",
      "    _|    _|    _|_|      _|_|_|    _|_|_|  _|_|_|  _|      _|    _|_|_|      _|        _|    _|    _|_|_|  _|_|_|_|\n",
      "\n",
      "    To log in, `huggingface_hub` requires a token generated from https://huggingface.co/settings/tokens .\n",
      "Enter your token (input will not be visible): \n",
      "Add token as git credential? (Y/n) y\n",
      "Token is valid (permission: fineGrained).\n",
      "The token `music-recommender-data-upload` has been saved to /root/.cache/huggingface/stored_tokens\n",
      "\u001b[1m\u001b[31mCannot authenticate through git-credential as no helper is defined on your machine.\n",
      "You might have to re-authenticate when pushing to the Hugging Face Hub.\n",
      "Run the following command in your terminal in case you want to set the 'store' credential helper as default.\n",
      "\n",
      "git config --global credential.helper store\n",
      "\n",
      "Read https://git-scm.com/book/en/v2/Git-Tools-Credential-Storage for more details.\u001b[0m\n",
      "Token has not been saved to git credential helper.\n",
      "Your token has been saved to /root/.cache/huggingface/token\n",
      "Login successful.\n",
      "The current active token is: `music-recommender-data-upload`\n"
     ]
    }
   ],
   "source": [
    "!huggingface-cli login"
   ]
  },
  {
   "cell_type": "code",
   "execution_count": 43,
   "metadata": {
    "colab": {
     "base_uri": "https://localhost:8080/",
     "height": 217,
     "referenced_widgets": [
      "b9fe59c77b2849d2a648f3535c0aedfb",
      "676fc76856c4469a9566d6381cb6f610",
      "62b81ecc6a47478f8d1920f4df98e10b",
      "2dbc1e7e6ce042cab4367903294a3e6d",
      "44a547d0cce74e09962da29722cdb349",
      "0b0ae218319248388d96d7dda6467e25",
      "2cef923b23084345a76b19baf1ac5d85",
      "cf70e5a687914fa8aa7f45353f457dd0",
      "c4e48041fbd34ccfb4c83aca23ce59a0",
      "bcab714101ba46d7a022fa2406dd6bf5",
      "c91ecaae75e6440c802db05568eec12e",
      "51de48a1015a4980b220daaeab7c1334",
      "52c115602a254a5baaea54288b23aeae",
      "4194916778c8415e9ce8f44c251ccde2",
      "e7541cf9fb6b4f5e9be22bf6eaf59bf9",
      "081ceb1987b24ef4ba5a81d62e9c4194",
      "a5e797deb07c42e8b8ee37c9f1e59121",
      "8e9a566f940544bcb0b05c6060235739",
      "da18ec306d3541eba593ca6a63d18ad7",
      "63a9158428cd4eeaae2c6ef33d0a0db9",
      "c248c6d23d7f4b96a5015e5540cef711",
      "a6568a044d354e81912191094bcfceb4",
      "b90875e497304cfcbc6772feab584440",
      "010c0a4d3ba04a0c970af805821e272a",
      "3fdb6f7f639f4869ba9e95447337205a",
      "3cc9a5a47fef4e748d0f413cf2a0f25a",
      "0a1b57e5f840463c8b08f58daef9d41f",
      "1bb7addf28af4c89a45354d7e535a0bd",
      "2ecb443ec09a4a738720e5275f67e947",
      "230c1db0d8974559ba5637f18864d090",
      "c4f86125eca14a30a8c48fbbaefe94e0",
      "edf8fe501c0a4efb8439a1da6f236f1a",
      "c7dac493ab1d4ca6a3353592038ffed9"
     ]
    },
    "executionInfo": {
     "elapsed": 2983,
     "status": "ok",
     "timestamp": 1748788792456,
     "user": {
      "displayName": "Anish Srivastava",
      "userId": "11197923939970859022"
     },
     "user_tz": -330
    },
    "id": "Jlttu2IX5urY",
    "outputId": "8f44b0ec-4654-4083-de97-b2722a351395"
   },
   "outputs": [
    {
     "data": {
      "application/vnd.jupyter.widget-view+json": {
       "model_id": "b9fe59c77b2849d2a648f3535c0aedfb",
       "version_major": 2,
       "version_minor": 0
      },
      "text/plain": [
       "Uploading the dataset shards:   0%|          | 0/1 [00:00<?, ?it/s]"
      ]
     },
     "metadata": {},
     "output_type": "display_data"
    },
    {
     "data": {
      "application/vnd.jupyter.widget-view+json": {
       "model_id": "51de48a1015a4980b220daaeab7c1334",
       "version_major": 2,
       "version_minor": 0
      },
      "text/plain": [
       "Creating parquet from Arrow format:   0%|          | 0/90 [00:00<?, ?ba/s]"
      ]
     },
     "metadata": {},
     "output_type": "display_data"
    },
    {
     "data": {
      "application/vnd.jupyter.widget-view+json": {
       "model_id": "b90875e497304cfcbc6772feab584440",
       "version_major": 2,
       "version_minor": 0
      },
      "text/plain": [
       "README.md:   0%|          | 0.00/24.0 [00:00<?, ?B/s]"
      ]
     },
     "metadata": {},
     "output_type": "display_data"
    },
    {
     "data": {
      "application/vnd.google.colaboratory.intrinsic+json": {
       "type": "string"
      },
      "text/plain": [
       "CommitInfo(commit_url='https://huggingface.co/datasets/tezbytes/music-recommender-data/commit/aa3fa3a7e02c7dce05c952fc33e133f3fee42394', commit_message='Upload dataset', commit_description='', oid='aa3fa3a7e02c7dce05c952fc33e133f3fee42394', pr_url=None, repo_url=RepoUrl('https://huggingface.co/datasets/tezbytes/music-recommender-data', endpoint='https://huggingface.co', repo_type='dataset', repo_id='tezbytes/music-recommender-data'), pr_revision=None, pr_num=None)"
      ]
     },
     "execution_count": 43,
     "metadata": {},
     "output_type": "execute_result"
    }
   ],
   "source": [
    "from datasets import Dataset\n",
    "Dataset.from_pandas(df).push_to_hub(\"tezbytes/music-recommender-data\")"
   ]
  },
  {
   "cell_type": "code",
   "execution_count": 84,
   "metadata": {
    "colab": {
     "base_uri": "https://localhost:8080/"
    },
    "executionInfo": {
     "elapsed": 19333,
     "status": "ok",
     "timestamp": 1748791912460,
     "user": {
      "displayName": "Anish Srivastava",
      "userId": "11197923939970859022"
     },
     "user_tz": -330
    },
    "id": "-kbQQ5pGHpSj",
    "outputId": "1b3c2f08-8ba3-4359-dc01-891e28284d45"
   },
   "outputs": [
    {
     "name": "stdout",
     "output_type": "stream",
     "text": [
      "Mounted at /content/drive\n"
     ]
    }
   ],
   "source": [
    "from google.colab import drive\n",
    "drive.mount('/content/drive')"
   ]
  },
  {
   "cell_type": "code",
   "execution_count": 85,
   "metadata": {
    "colab": {
     "base_uri": "https://localhost:8080/"
    },
    "executionInfo": {
     "elapsed": 119,
     "status": "ok",
     "timestamp": 1748791982633,
     "user": {
      "displayName": "Anish Srivastava",
      "userId": "11197923939970859022"
     },
     "user_tz": -330
    },
    "id": "JdeCcwsWHptR",
    "outputId": "71e059d0-d702-46da-971b-711cd7f63840"
   },
   "outputs": [
    {
     "name": "stdout",
     "output_type": "stream",
     "text": [
      "mv: cannot stat '/content/drive/MyDrive/Colab': No such file or directory\n",
      "mv: cannot stat 'Notebooks/02_data_enrichment.ipynb': No such file or directory\n",
      "/content/music-recommender\n"
     ]
    }
   ],
   "source": [
    "!mv /content/drive/MyDrive/Colab Notebooks/02_data_enrichment.ipynb /content/music-recommender/notebooks/\n",
    "%cd /content/music-recommender"
   ]
  },
  {
   "cell_type": "code",
   "execution_count": null,
   "metadata": {
    "id": "vV1pAYFpH_hm"
   },
   "outputs": [],
   "source": []
  }
 ],
 "metadata": {
  "colab": {
   "authorship_tag": "ABX9TyNHsUR8BAQC7T+2fTB/mbL+",
   "provenance": []
  },
  "kernelspec": {
   "display_name": "Python 3",
   "name": "python3"
  },
  "language_info": {
   "name": "python"
  }
 },
 "nbformat": 4,
 "nbformat_minor": 0
}
